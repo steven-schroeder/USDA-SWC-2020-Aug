{
 "cells": [
  {
   "cell_type": "markdown",
   "metadata": {},
   "source": [
    "# Looping Over Data Sets\n",
    "\n",
    "questions:\n",
    "\n",
    "- \"How can I process many data sets with a single command?\"\n",
    "\n",
    "objectives:\n",
    "\n",
    "- \"Be able to read and write globbing expressions that match sets of files.\"\n",
    "- \"Use glob to create lists of files.\"\n",
    "- \"Write for loops to perform operations on files given their names in a list.\"\n",
    "\n",
    "keypoints:\n",
    "\n",
    "- \"Use a `for` loop to process files given a list of their names.\"\n",
    "- \"Use `glob.glob` to find sets of files whose names match a pattern.\"\n",
    "- \"Use `glob` and `for` to process batches of files.\""
   ]
  },
  {
   "cell_type": "markdown",
   "metadata": {},
   "source": [
    "---"
   ]
  },
  {
   "cell_type": "markdown",
   "metadata": {},
   "source": [
    "## Use a `for` loop to process files given a list of their names.\n",
    "\n",
    "* A filename is a character string.\n",
    "* And lists can contain character strings."
   ]
  },
  {
   "cell_type": "code",
   "execution_count": null,
   "metadata": {},
   "outputs": [],
   "source": []
  },
  {
   "cell_type": "markdown",
   "metadata": {},
   "source": [
    "## Use [`glob.glob`](https://docs.python.org/3/library/glob.html#glob.glob) to find sets of files whose names match a pattern.\n",
    "\n",
    "* In Unix, the term \"globbing\" means \"matching a set of files with a pattern\".\n",
    "* The most common patterns are:\n",
    "  * `*` meaning \"match zero or more characters\"\n",
    "  * `?` meaning \"match exactly one character\"\n",
    "* Python's standard library contains the [`glob`](https://docs.python.org/3/library/glob.html) module to provide pattern matching functionality\n",
    "* The [`glob`](https://docs.python.org/3/library/glob.html) module contains a function also called `glob` to match file patterns\n",
    "* E.g., `glob.glob('*.txt')` matches all files in the current directory whose names end with `.txt`.\n",
    "* Result is a (possibly empty) list of character strings."
   ]
  },
  {
   "cell_type": "code",
   "execution_count": null,
   "metadata": {},
   "outputs": [],
   "source": []
  },
  {
   "cell_type": "code",
   "execution_count": null,
   "metadata": {},
   "outputs": [],
   "source": []
  },
  {
   "cell_type": "markdown",
   "metadata": {},
   "source": [
    "## Use `glob` and `for` to process batches of files.\n",
    "\n",
    "* Helps a lot if the files are named and stored systematically and consistently so that simple patterns will find the right data."
   ]
  },
  {
   "cell_type": "code",
   "execution_count": null,
   "metadata": {},
   "outputs": [],
   "source": []
  },
  {
   "cell_type": "markdown",
   "metadata": {},
   "source": [
    "* This includes all data, as well as per-region data.\n",
    "* Use a more specific pattern in the exercises to exclude the whole data set.\n",
    "* But note that the minimum of the entire data set is also the minimum of one of the data sets, which is a nice check on correctness."
   ]
  },
  {
   "cell_type": "markdown",
   "metadata": {},
   "source": [
    "---"
   ]
  },
  {
   "cell_type": "markdown",
   "metadata": {},
   "source": [
    "## Exercise\n",
    "\n",
    "### Determining Matches\n",
    "\n",
    "Which of these files is *not* matched by the expression `glob.glob('data/*as*.csv')`?\n",
    "\n",
    "1. `data/gapminder_gdp_africa.csv`\n",
    "2. `data/gapminder_gdp_americas.csv`\n",
    "3. `data/gapminder_gdp_asia.csv`\n",
    "4. 1 and 2 are not matched."
   ]
  },
  {
   "cell_type": "markdown",
   "metadata": {},
   "source": []
  },
  {
   "cell_type": "markdown",
   "metadata": {},
   "source": [
    "---"
   ]
  },
  {
   "cell_type": "markdown",
   "metadata": {},
   "source": [
    "## Exercise\n",
    "\n",
    "### Minimum File Size\n",
    "\n",
    "Modify this program so that it prints the number of records in the file that has the fewest records.\n",
    "\n",
    "```python\n",
    "import glob\n",
    "import pandas as pd\n",
    "fewest = ____\n",
    "for filename in glob.glob('data/*.csv'):\n",
    "    dataframe = pd.____(filename)\n",
    "    fewest = min(____, dataframe.shape[0])\n",
    "print('smallest file has', fewest, 'records')\n",
    "```\n",
    "\n",
    "Note that the [shape method](https://pandas.pydata.org/pandas-docs/stable/reference/api/pandas.DataFrame.shape.html) returns a tuple with the number of rows and columns of the data frame."
   ]
  },
  {
   "cell_type": "markdown",
   "metadata": {},
   "source": []
  },
  {
   "cell_type": "markdown",
   "metadata": {},
   "source": [
    "---"
   ]
  },
  {
   "cell_type": "markdown",
   "metadata": {},
   "source": [
    "## Exercise\n",
    "\n",
    "### Comparing Data\n",
    "\n",
    "Write a program that reads in the regional data sets and plots the average GDP per capita for each region over time in a single chart."
   ]
  },
  {
   "cell_type": "markdown",
   "metadata": {},
   "source": []
  }
 ],
 "metadata": {
  "kernelspec": {
   "display_name": "Python 3",
   "language": "python",
   "name": "python3"
  },
  "language_info": {
   "codemirror_mode": {
    "name": "ipython",
    "version": 3
   },
   "file_extension": ".py",
   "mimetype": "text/x-python",
   "name": "python",
   "nbconvert_exporter": "python",
   "pygments_lexer": "ipython3",
   "version": "3.7.7"
  }
 },
 "nbformat": 4,
 "nbformat_minor": 4
}
