{
 "cells": [
  {
   "cell_type": "markdown",
   "metadata": {},
   "source": [
    "# Conditionals\n",
    "\n",
    "questions:\n",
    "\n",
    "- \"How can programs do different things for different data?\"\n",
    "\n",
    "objectives:\n",
    "\n",
    "- \"Correctly write programs that use if and else statements and simple Boolean expressions (without logical operators).\"\n",
    "- \"Trace the execution of unnested conditionals and conditionals inside loops.\"\n",
    "\n",
    "keypoints:\n",
    "\n",
    "- \"Use `if` statements to control whether or not a block of code is executed.\"\n",
    "- \"Conditionals are often used inside loops.\"\n",
    "- \"Use `else` to execute a block of code when an `if` condition is *not* true.\"\n",
    "- \"Use `elif` to specify additional tests.\"\n",
    "- \"Conditions are tested once, in order.\"\n",
    "- \"Create a table showing variables' values to trace a program's execution.\""
   ]
  },
  {
   "cell_type": "markdown",
   "metadata": {},
   "source": [
    "---"
   ]
  },
  {
   "cell_type": "markdown",
   "metadata": {},
   "source": [
    "## Use `if` statements to control whether or not a block of code is executed.\n",
    "\n",
    "* An `if` statement (more properly called a *conditional* statement) controls whether some block of code is executed or not.\n",
    "* Structure is similar to a `for` statement:\n",
    "  * First line opens with `if` and ends with a colon\n",
    "  * Body containing one or more statements is indented (usually by 4 spaces)"
   ]
  },
  {
   "cell_type": "code",
   "execution_count": null,
   "metadata": {},
   "outputs": [],
   "source": []
  },
  {
   "cell_type": "markdown",
   "metadata": {},
   "source": [
    "## Conditionals are often used inside loops.\n",
    "\n",
    "* Not much point using a conditional when we know the value (as above).\n",
    "* But useful when we have a collection to process."
   ]
  },
  {
   "cell_type": "code",
   "execution_count": null,
   "metadata": {},
   "outputs": [],
   "source": []
  },
  {
   "cell_type": "markdown",
   "metadata": {},
   "source": [
    "## Use `else` to execute a block of code when an `if` condition is *not* true.\n",
    "\n",
    "* `else` can be used following an `if`.\n",
    "* Allows us to specify an alternative to execute when the `if` *branch* isn't taken."
   ]
  },
  {
   "cell_type": "code",
   "execution_count": null,
   "metadata": {},
   "outputs": [],
   "source": []
  },
  {
   "cell_type": "markdown",
   "metadata": {},
   "source": [
    "## Use `elif` to specify additional tests.\n",
    "\n",
    "* May want to provide several alternative choices, each with its own test.\n",
    "* Use `elif` (short for \"else if\") and a condition to specify these.\n",
    "* Always associated with an `if`.\n",
    "* Must come before the `else` (which is the \"catch all\")."
   ]
  },
  {
   "cell_type": "code",
   "execution_count": null,
   "metadata": {},
   "outputs": [],
   "source": []
  },
  {
   "cell_type": "markdown",
   "metadata": {},
   "source": [
    "## Conditions are tested once, in order.\n",
    "\n",
    "* Python steps through the branches of the conditional in order, testing each in turn.\n",
    "* So ordering matters."
   ]
  },
  {
   "cell_type": "code",
   "execution_count": null,
   "metadata": {},
   "outputs": [],
   "source": []
  },
  {
   "cell_type": "markdown",
   "metadata": {},
   "source": [
    "* Does *not* automatically go back and re-evaluate if values change."
   ]
  },
  {
   "cell_type": "code",
   "execution_count": null,
   "metadata": {},
   "outputs": [],
   "source": []
  },
  {
   "cell_type": "markdown",
   "metadata": {},
   "source": [
    "* Often use conditionals in a loop to \"evolve\" the values of variables."
   ]
  },
  {
   "cell_type": "code",
   "execution_count": null,
   "metadata": {},
   "outputs": [],
   "source": []
  },
  {
   "cell_type": "markdown",
   "metadata": {},
   "source": [
    "#### Create a table showing variables' values to trace a program's execution.\n",
    "\n",
    "| | | | | | | | | | | |\n",
    "| - | -: | -: | -: | -: | -: | -: | -: | -: | -: | -: |\n",
    "| **i** | 0 | . | 1 | . | 2 | . | 3 | . | 4 | . |\n",
    "| **velocity** | 10.0 | 20.0 | . | 30.0 | . | 25.0 | . | 20.0 | . | 30.0 |\n",
    "\n",
    "* The program must have a `print` statement *outside* the body of the loop to show the final value of `velocity`, since its value is updated by the last iteration of the loop."
   ]
  },
  {
   "cell_type": "markdown",
   "metadata": {},
   "source": [
    "---"
   ]
  },
  {
   "cell_type": "markdown",
   "metadata": {},
   "source": [
    "## Compound Relations Using `and`, `or`, and Parentheses\n",
    "\n",
    "Often, you want some combination of things to be true. You can combine relations within a conditional using `and` and `or`.  Continuing the example above, suppose you have"
   ]
  },
  {
   "cell_type": "code",
   "execution_count": null,
   "metadata": {},
   "outputs": [],
   "source": []
  },
  {
   "cell_type": "markdown",
   "metadata": {},
   "source": [
    "Just like with arithmetic, you can and should use parentheses whenever there is possible ambiguity. A good general rule is to *always* use parentheses when mixing `and` and `or` in the same condition. That is, instead of:"
   ]
  },
  {
   "cell_type": "code",
   "execution_count": null,
   "metadata": {},
   "outputs": [],
   "source": []
  },
  {
   "cell_type": "markdown",
   "metadata": {},
   "source": [
    "write one of these:"
   ]
  },
  {
   "cell_type": "code",
   "execution_count": null,
   "metadata": {},
   "outputs": [],
   "source": []
  },
  {
   "cell_type": "markdown",
   "metadata": {},
   "source": [
    "so it is perfectly clear to a reader (and to Python) what you really mean."
   ]
  },
  {
   "cell_type": "markdown",
   "metadata": {},
   "source": [
    "---"
   ]
  },
  {
   "cell_type": "markdown",
   "metadata": {},
   "source": [
    "## Exercise\n",
    "\n",
    "### Tracing Execution\n",
    "\n",
    "What does this program print?\n",
    "\n",
    "```python\n",
    "pressure = 71.9\n",
    "if pressure > 50.0:\n",
    "    pressure = 25.0\n",
    "elif pressure <= 50.0:\n",
    "    pressure = 0.0\n",
    "print(pressure)\n",
    "```"
   ]
  },
  {
   "cell_type": "markdown",
   "metadata": {},
   "source": []
  },
  {
   "cell_type": "markdown",
   "metadata": {},
   "source": [
    "---"
   ]
  },
  {
   "cell_type": "markdown",
   "metadata": {},
   "source": [
    "## Exercise\n",
    "\n",
    "### Trimming Values\n",
    "\n",
    "Fill in the blanks so that this program creates a new list containing zeroes where the original list's values were negative and ones where the original list's values were positive.\n",
    "\n",
    "```python\n",
    "original = [-1.5, 0.2, 0.4, 0.0, -1.3, 0.4]\n",
    "result = ____\n",
    "for value in original:\n",
    "    if ____:\n",
    "        result.append(0)\n",
    "    else:\n",
    "        ____\n",
    "print(result)\n",
    "```\n",
    "\n",
    "```python\n",
    "[0, 1, 1, 1, 0, 1]\n",
    "```"
   ]
  },
  {
   "cell_type": "markdown",
   "metadata": {},
   "source": []
  },
  {
   "cell_type": "markdown",
   "metadata": {},
   "source": [
    "---"
   ]
  },
  {
   "cell_type": "markdown",
   "metadata": {},
   "source": [
    "## Exercise\n",
    "\n",
    "### Processing Small Files\n",
    "\n",
    "Modify this program so that it only processes files with fewer than 50 records.\n",
    "\n",
    "```python\n",
    "import glob\n",
    "import pandas as pd\n",
    "for filename in glob.glob('data/*.csv'):\n",
    "    contents = pd.read_csv(filename)\n",
    "    ____:\n",
    "        print(filename, len(contents))\n",
    "```"
   ]
  },
  {
   "cell_type": "markdown",
   "metadata": {},
   "source": []
  },
  {
   "cell_type": "markdown",
   "metadata": {},
   "source": [
    "---"
   ]
  },
  {
   "cell_type": "markdown",
   "metadata": {},
   "source": [
    "## Exercise\n",
    "\n",
    "### Initializing\n",
    "\n",
    "Modify this program so that it finds the largest and smallest values in the list no matter what the range of values originally is.\n",
    "\n",
    "```python\n",
    "values = [...some test data...]\n",
    "smallest, largest = None, None\n",
    "for v in values:\n",
    "    if ____:\n",
    "        smallest, largest = v, v\n",
    "    ____:\n",
    "        smallest = min(____, v)\n",
    "        largest = max(____, v)\n",
    "print(smallest, largest)\n",
    "```\n",
    "\n",
    "What are the advantages and disadvantages of using this method to find the range of the data?"
   ]
  },
  {
   "cell_type": "markdown",
   "metadata": {},
   "source": []
  },
  {
   "cell_type": "markdown",
   "metadata": {},
   "source": [
    "---"
   ]
  },
  {
   "cell_type": "markdown",
   "metadata": {},
   "source": [
    "## Using Functions With Conditionals in Pandas\n",
    "\n",
    "Functions will often contain conditionals.  Here is a short example that will indicate which quartile the argument is in based on hand-coded values for the quartile cut points."
   ]
  },
  {
   "cell_type": "code",
   "execution_count": null,
   "metadata": {},
   "outputs": [],
   "source": []
  },
  {
   "cell_type": "markdown",
   "metadata": {},
   "source": [
    "That function would typically be used within a `for` loop, but Pandas has a different, more efficient way of doing the same thing, and that is by *applying* a function to a dataframe or a portion of a dataframe.  Here is an example, using the definition above."
   ]
  },
  {
   "cell_type": "code",
   "execution_count": null,
   "metadata": {},
   "outputs": [],
   "source": []
  },
  {
   "cell_type": "markdown",
   "metadata": {},
   "source": [
    "There is a lot in that second line, so let's take it piece by piece.\n",
    "On the right side of the `=` we start with `data['lifeExp']`, which is the column in the dataframe called `data` labeled `lifExp`.  We use the `apply()` to do what it says, apply the `calculate_life_quartile` to the value of this column for every row in the dataframe."
   ]
  },
  {
   "cell_type": "code",
   "execution_count": null,
   "metadata": {},
   "outputs": [],
   "source": []
  }
 ],
 "metadata": {
  "kernelspec": {
   "display_name": "Python 3",
   "language": "python",
   "name": "python3"
  },
  "language_info": {
   "codemirror_mode": {
    "name": "ipython",
    "version": 3
   },
   "file_extension": ".py",
   "mimetype": "text/x-python",
   "name": "python",
   "nbconvert_exporter": "python",
   "pygments_lexer": "ipython3",
   "version": "3.7.7"
  }
 },
 "nbformat": 4,
 "nbformat_minor": 4
}
