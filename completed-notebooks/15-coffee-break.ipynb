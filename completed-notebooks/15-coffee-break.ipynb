{
 "cells": [
  {
   "cell_type": "markdown",
   "metadata": {},
   "source": [
    "# Afternoon Coffee Break\n",
    "\n",
    "teaching: 0\n",
    "exercises: 0\n",
    "break: 15\n",
    "\n",
    "---\n",
    "\n",
    "# Reflection exercise\n",
    "\n",
    "Over break, reflect on and discuss the following:\n",
    "\n",
    "* A common refrain in software engineering is \"Don't Repeat Yourself\". How do the techniques we've learned in the last lessons help us avoid repeating ourselves? _note that in practice there is some nuance to this and should be balanced with doing the simplest thing that could possibly work_\n",
    "* What are the pros / cons of making a variable global or local to a function?\n",
    "* When would you consider turning a block of code into a function definition?\n"
   ]
  },
  {
   "cell_type": "code",
   "execution_count": null,
   "metadata": {},
   "outputs": [],
   "source": []
  }
 ],
 "metadata": {
  "kernelspec": {
   "display_name": "Python 3",
   "language": "python",
   "name": "python3"
  },
  "language_info": {
   "codemirror_mode": {
    "name": "ipython",
    "version": 3
   },
   "file_extension": ".py",
   "mimetype": "text/x-python",
   "name": "python",
   "nbconvert_exporter": "python",
   "pygments_lexer": "ipython3",
   "version": "3.7.7"
  }
 },
 "nbformat": 4,
 "nbformat_minor": 4
}
