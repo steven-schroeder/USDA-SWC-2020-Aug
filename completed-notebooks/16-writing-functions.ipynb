{
 "cells": [
  {
   "cell_type": "markdown",
   "metadata": {},
   "source": [
    "# Writing Functions\n",
    "\n",
    "teaching: 10\n",
    "exercises: 15\n",
    "\n",
    "questions:\n",
    "\n",
    "- \"How can I create my own functions?\"\n",
    "\n",
    "objectives:\n",
    "\n",
    "- \"Explain and identify the difference between function definition and function call.\"\n",
    "- \"Write a function that takes a small, fixed number of arguments and produces a single result.\"\n",
    "\n",
    "keypoints:\n",
    "\n",
    "- \"Break programs down into functions to make them easier to understand.\"\n",
    "- \"Define a function using `def` with a name, parameters, and a block of code.\"\n",
    "- \"Defining a function does not run it.\"\n",
    "- \"Arguments in call are matched to parameters in definition.\"\n",
    "- \"Functions may return a result to their caller using `return`.\""
   ]
  },
  {
   "cell_type": "markdown",
   "metadata": {},
   "source": [
    "---"
   ]
  },
  {
   "cell_type": "markdown",
   "metadata": {},
   "source": [
    "## Break programs down into functions to make them easier to understand.\n",
    "\n",
    "* Human beings can only keep a few items in working memory at a time.\n",
    "* Understand larger/more complicated ideas by understanding and combining pieces.\n",
    "  * Components in a machine.\n",
    "  * Lemmas when proving theorems.\n",
    "* Functions serve the same purpose in programs.\n",
    "  * *Encapsulate* complexity so that we can treat it as a single \"thing\".\n",
    "* Also enables *re-use*.\n",
    "  * Write one time, use many times."
   ]
  },
  {
   "cell_type": "markdown",
   "metadata": {},
   "source": [
    "## Define a function using `def` with a name, parameters, and a block of code.\n",
    "\n",
    "* Begin the definition of a new function with `def`.\n",
    "* Followed by the name of the function.\n",
    "  * Must obey the same rules as variable names.\n",
    "* Then *parameters* in parentheses.\n",
    "  * Empty parentheses if the function doesn't take any inputs.\n",
    "  * We will discuss this in detail in a moment.\n",
    "* Then a colon.\n",
    "* Then an indented block of code."
   ]
  },
  {
   "cell_type": "code",
   "execution_count": null,
   "metadata": {},
   "outputs": [],
   "source": [
    "def print_greeting():\n",
    "    print('Hello!')"
   ]
  },
  {
   "cell_type": "markdown",
   "metadata": {},
   "source": [
    "## Defining a function does not run it.\n",
    "\n",
    "* Defining a function does not run it.\n",
    "  * Like assigning a value to a variable.\n",
    "* Must call the function to execute the code it contains."
   ]
  },
  {
   "cell_type": "code",
   "execution_count": null,
   "metadata": {},
   "outputs": [],
   "source": [
    "print_greeting()"
   ]
  },
  {
   "cell_type": "markdown",
   "metadata": {},
   "source": [
    "## Arguments in call are matched to parameters in definition.\n",
    "\n",
    "* Functions are most useful when they can operate on different data.\n",
    "* Specify *parameters* when defining a function.\n",
    "  * These become variables when the function is executed.\n",
    "  * Are assigned the arguments in the call (i.e., the values passed to the function).\n",
    "  * If you don't name the arguments when using them in the call, the arguments will be matched to parameters in the order the parameters are defined in the function."
   ]
  },
  {
   "cell_type": "code",
   "execution_count": null,
   "metadata": {},
   "outputs": [],
   "source": [
    "def print_date(year, month, day):\n",
    "    joined = str(year) + '/' + str(month) + '/' + str(day)\n",
    "    print(joined)\n",
    "\n",
    "print_date(1871, 3, 19)"
   ]
  },
  {
   "cell_type": "markdown",
   "metadata": {},
   "source": [
    "Or, we can name the arguments when we call the function, which allows us to specify them in any order:"
   ]
  },
  {
   "cell_type": "code",
   "execution_count": null,
   "metadata": {},
   "outputs": [],
   "source": [
    "print_date(month=3, day=19, year=1871)"
   ]
  },
  {
   "cell_type": "markdown",
   "metadata": {},
   "source": [
    "* Via [Twitter](https://twitter.com/minisciencegirl/status/693486088963272705): `()` contains the ingredients for the function while the body contains the recipe."
   ]
  },
  {
   "cell_type": "markdown",
   "metadata": {},
   "source": [
    "## Functions may return a result to their caller using `return`.\n",
    "\n",
    "* Use `return ...` to give a value back to the caller.\n",
    "* May occur anywhere in the function.\n",
    "* But functions are easier to understand if `return` occurs:\n",
    "  * At the start to handle special cases.\n",
    "  * At the very end, with a final result."
   ]
  },
  {
   "cell_type": "code",
   "execution_count": null,
   "metadata": {},
   "outputs": [],
   "source": [
    "def average(values):\n",
    "    if len(values) == 0:\n",
    "        return None\n",
    "    return sum(values) / len(values)"
   ]
  },
  {
   "cell_type": "code",
   "execution_count": null,
   "metadata": {},
   "outputs": [],
   "source": [
    "a = average([1, 3, 4])\n",
    "print('average of actual values:', a)"
   ]
  },
  {
   "cell_type": "code",
   "execution_count": null,
   "metadata": {},
   "outputs": [],
   "source": [
    "print('average of empty list:', average([]))"
   ]
  },
  {
   "cell_type": "markdown",
   "metadata": {},
   "source": [
    "* Remember: every function returns something.\n",
    "* A function that doesn't explicitly `return` a value automatically returns `None`."
   ]
  },
  {
   "cell_type": "code",
   "execution_count": null,
   "metadata": {},
   "outputs": [],
   "source": [
    "result = print_date(1871, 3, 19)\n",
    "print('result of call is:', result)"
   ]
  },
  {
   "cell_type": "markdown",
   "metadata": {},
   "source": [
    "---"
   ]
  },
  {
   "cell_type": "markdown",
   "metadata": {},
   "source": [
    "## Exercise\n",
    "\n",
    "### Identifying Syntax Errors\n",
    "\n",
    "1. Read the code below and try to identify what the errors are *without* running it.\n",
    "2. Run the code and read the error message. Is it a `SyntaxError` or an `IndentationError`?\n",
    "3. Fix the error.\n",
    "4. Repeat steps 2 and 3 until you have fixed all the errors.\n",
    "\n",
    "```python\n",
    "def another_function\n",
    "  print(\"Syntax errors are annoying.\")\n",
    "   print(\"But at least python tells us about them!\")\n",
    "  print(\"So they are usually not too hard to fix.\")\n",
    "```"
   ]
  },
  {
   "cell_type": "markdown",
   "metadata": {},
   "source": [
    "### Solution\n",
    "\n",
    "```python\n",
    "def another_function():\n",
    "  print(\"Syntax errors are annoying.\")\n",
    "  print(\"But at least Python tells us about them!\")\n",
    "  print(\"So they are usually not too hard to fix.\")\n",
    "```"
   ]
  },
  {
   "cell_type": "markdown",
   "metadata": {},
   "source": [
    "---"
   ]
  },
  {
   "cell_type": "markdown",
   "metadata": {},
   "source": [
    "## Exercise\n",
    "\n",
    "### Definition and Use\n",
    "\n",
    "What does the following program print?\n",
    "\n",
    "```python\n",
    "def report(pressure):\n",
    "    print('pressure is', pressure)\n",
    "\n",
    "print('calling', report, 22.5)\n",
    "```"
   ]
  },
  {
   "cell_type": "markdown",
   "metadata": {},
   "source": [
    "### Solution\n",
    "\n",
    "A function call always needs parenthesis, otherwise you get memory address of the function object. So, if we wanted  call the function named report, and give it the value 22.5 to report on, we could have our function call as follows\n",
    "\n",
    "```python\n",
    "print(\"calling\")\n",
    "report(22.5)\n",
    "```"
   ]
  },
  {
   "cell_type": "markdown",
   "metadata": {},
   "source": [
    "---"
   ]
  },
  {
   "cell_type": "markdown",
   "metadata": {},
   "source": [
    "## Exercise\n",
    "\n",
    "### Order of Operations\n",
    "\n",
    "The example above:\n",
    "\n",
    "```python\n",
    "result = print_date(1871, 3, 19)\n",
    "print('result of call is:', result)\n",
    "```\n",
    "\n",
    "printed:\n",
    "```python\n",
    "1871/3/19\n",
    "result of call is: None\n",
    "```\n",
    "\n",
    "Explain why the two lines of output appeared in the order they did.\n",
    "\n",
    "What's wrong in this example?\n",
    "\n",
    "```python\n",
    "result = print_date(1871,3,19)\n",
    "\n",
    "def print_date(year, month, day):\n",
    "   joined = str(year) + '/' + str(month) + '/' + str(day)\n",
    "   print(joined)\n",
    "```"
   ]
  },
  {
   "cell_type": "markdown",
   "metadata": {},
   "source": [
    "### Solution\n",
    "\n",
    "1. The first line of output (`1871/3/19`) is from the print function inside `print_date()`, while the second line is from the print function below the function call. All of the code inside `print_date()` is executed first, and the program then \"leaves\" the function and executes the rest of the code.\n",
    "2. The problem with the example is that the function is defined *after* the call to the function is made. Python therefore doesn't understand the function call."
   ]
  },
  {
   "cell_type": "markdown",
   "metadata": {},
   "source": [
    "---"
   ]
  },
  {
   "cell_type": "markdown",
   "metadata": {},
   "source": [
    "## Exercise\n",
    "\n",
    "### Encapsulation\n",
    "\n",
    "Fill in the blanks to create a function that takes a single filename as an argument, loads the data in the file named by the argument, and returns the minimum value in that data.\n",
    "\n",
    "```python\n",
    "import pandas as pd\n",
    "\n",
    "def min_in_data(____):\n",
    "    data = ____\n",
    "    return ____\n",
    "```"
   ]
  },
  {
   "cell_type": "markdown",
   "metadata": {},
   "source": [
    "### Solution\n",
    "\n",
    "```python\n",
    "import pandas as pd\n",
    "\n",
    "def min_in_data(filename):\n",
    "    data = pd.read_csv(filename)\n",
    "    return data.min()\n",
    "```"
   ]
  },
  {
   "cell_type": "markdown",
   "metadata": {},
   "source": [
    "---"
   ]
  },
  {
   "cell_type": "markdown",
   "metadata": {},
   "source": [
    "## Exercise\n",
    "\n",
    "### Find the First\n",
    "\n",
    "Fill in the blanks to create a function that takes a list of numbers as an argument and returns the first negative value in the list. What does your function do if the list is empty?\n",
    "\n",
    "```python\n",
    "def first_negative(values):\n",
    "    for v in ____:\n",
    "        if ____:\n",
    "            return ____\n",
    "```"
   ]
  },
  {
   "cell_type": "markdown",
   "metadata": {},
   "source": [
    "### Solution\n",
    "\n",
    "```python\n",
    "def first_negative(values):\n",
    "    for v in values:\n",
    "        if v<0:\n",
    "            return v\n",
    "```\n",
    "\n",
    "If an empty list is passed to this function, it returns `None`:\n",
    "\n",
    "```python\n",
    "my_list = []\n",
    "print(first_negative(my_list))\n",
    "```"
   ]
  },
  {
   "cell_type": "markdown",
   "metadata": {},
   "source": [
    "---"
   ]
  },
  {
   "cell_type": "markdown",
   "metadata": {},
   "source": [
    "## Exercise\n",
    "\n",
    "### Calling by Name\n",
    "\n",
    "Earlier we saw this function:\n",
    "\n",
    "```python\n",
    "def print_date(year, month, day):\n",
    "    joined = str(year) + '/' + str(month) + '/' + str(day)\n",
    "    print(joined)\n",
    "```\n",
    "\n",
    "We saw that we can call the function using *named arguments*, like this:\n",
    "\n",
    "```python\n",
    "print_date(day=1, month=2, year=2003)\n",
    "```\n",
    "\n",
    "1. What does `print_date(day=1, month=2, year=2003)` print?\n",
    "2. When have you seen a function call like this before?\n",
    "3. When and why is it useful to call functions this way?"
   ]
  },
  {
   "cell_type": "markdown",
   "metadata": {},
   "source": [
    "### Solution\n",
    "\n",
    "1. `2003/2/1`\n",
    "2. We saw examples of using *named arguments* when working with the pandas library. For example, when reading in a dataset using `data = pd.read_csv('data/gapminder_gdp_europe.csv', index_col='country')`, the last argument `index_col` is a named argument.  \n",
    "3. Using named arguments can make code more readable since one can see from the function call what name the different arguments have inside the function. It can also reduce the chances of passing arguments in the wrong order, since by using named arguments the order doesn't matter."
   ]
  },
  {
   "cell_type": "markdown",
   "metadata": {},
   "source": [
    "---"
   ]
  },
  {
   "cell_type": "markdown",
   "metadata": {},
   "source": [
    "## Exercise\n",
    "\n",
    "### Encapsulate of If/Print Block\n",
    "\n",
    "The code below will run on a label-printer for chicken eggs.  A digital scale will report a chicken egg mass (in grams) to the computer and then the computer will print a label.  \n",
    "\n",
    "Please re-write the code so that the if-block is folded into a function.\n",
    "\n",
    "```python\n",
    " import random\n",
    " for i in range(10):\n",
    "\n",
    "    # simulating the mass of a chicken egg\n",
    "    # the (random) mass will be 70 +/- 20 grams\n",
    "    mass=70+20.0*(2.0*random.random()-1.0)\n",
    "\n",
    "    print(mass)\n",
    "\n",
    "    #egg sizing machinery prints a label\n",
    "    if(mass>=85):\n",
    "       print(\"jumbo\")\n",
    "    elif(mass>=70):\n",
    "       print(\"large\")\n",
    "    elif(mass<70 and mass>=55):\n",
    "       print(\"medium\")\n",
    "    else:\n",
    "       print(\"small\")\n",
    "```\n",
    "\n",
    "The simplified program  follows.  What function definition will make it functional?\n",
    "\n",
    "```python\n",
    " # revised version\n",
    " import random\n",
    " for i in range(10):\n",
    "\n",
    "    # simulating the mass of a chicken egg\n",
    "    # the (random) mass will be 70 +/- 20 grams\n",
    "    mass=70+20.0*(2.0*random.random()-1.0)\n",
    "\n",
    "    print(mass,print_egg_label(mass))    \n",
    "\n",
    "```\n",
    "\n",
    "1. Create a function definition for `print_egg_label()` that will work with the revised program above.  Note, the function's return value will be significant. Sample output might be `71.23 large`.\n",
    "2. A dirty egg might have a mass of more than 90 grams, and a spoiled or broken egg will probably have a mass that's less than 50 grams.  Modify your `print_egg_label()` function to account for these error conditions. Sample output could be `25 too light, probably spoiled`."
   ]
  },
  {
   "cell_type": "markdown",
   "metadata": {},
   "source": [
    "### Solution\n",
    "\n",
    "```python\n",
    "def print_egg_label(mass):\n",
    "    #egg sizing machinery prints a label\n",
    "    if(mass>=90):\n",
    "        return \"warning: egg might be dirty\"\n",
    "    elif(mass>=85):\n",
    "        return \"jumbo\"\n",
    "    elif(mass>=70):\n",
    "        return \"large\"\n",
    "    elif(mass<70 and mass>=55):\n",
    "        return \"medium\"\n",
    "    elif(mass<50):\n",
    "        return \"too light, probably spoiled\"\n",
    "    else:\n",
    "        return \"small\"\n",
    "```"
   ]
  },
  {
   "cell_type": "markdown",
   "metadata": {},
   "source": [
    "---"
   ]
  },
  {
   "cell_type": "markdown",
   "metadata": {},
   "source": [
    "## Exercise\n",
    "\n",
    "### Encapsulating Data Analysis\n",
    "\n",
    "Assume that the following code has been executed:\n",
    "\n",
    "```python\n",
    "import pandas as pd\n",
    "\n",
    "df = pd.read_csv('../data/gapminder_gdp_asia.csv', index_col=0)\n",
    "japan = df.loc['Japan']\n",
    "```\n",
    "\n",
    "1.Complete the statements below to obtain the average GDP for Japan across the years reported for the 1980s.\n",
    "\n",
    "```python\n",
    "year = 1983\n",
    "gdp_decade = 'gdpPercap_' + str(year // ____)\n",
    "avg = (japan.loc[gdp_decade + ___] + japan.loc[gdp_decade + ___]) / 2\n",
    "```\n",
    "\n",
    "2.Abstract the code above into a single function.\n",
    "\n",
    "```python\n",
    "def avg_gdp_in_decade(country, continent, year):\n",
    "    df = pd.read_csv('../data/gapminder_gdp_'+___+'.csv',delimiter=',',index_col=0)\n",
    "    ____\n",
    "    ____\n",
    "    ____\n",
    "    return avg\n",
    "```\n",
    "\n",
    "3.How would you generalize this function if you did not know beforehand which specific years occurred as columns in the data? For instance, what if we also had data from years ending in 1 and 9 for each decade? (Hint: use the columns to filter out the ones that correspond to the decade, instead of enumerating them in the code.)"
   ]
  },
  {
   "cell_type": "markdown",
   "metadata": {},
   "source": [
    "### Solution\n",
    "\n",
    "1.\n",
    "\n",
    "```python\n",
    "year = 1983\n",
    "gdp_decade = 'gdpPercap_' + str(year // 10)\n",
    "avg = (japan.loc[gdp_decade + '2'] + japan.loc[gdp_decade + '7']) / 2\n",
    "```\n",
    "\n",
    "2.\n",
    "\n",
    "```python\n",
    "def avg_gdp_in_decade(country, continent, year):\n",
    "    df = pd.read_csv('../data/gapminder_gdp_' + continent + '.csv', index_col=0)\n",
    "    c = df.loc[country]\n",
    "    gdp_decade = 'gdpPercap_' + str(year // 10)\n",
    "    avg = (c.loc[gdp_decade + '2'] + c.loc[gdp_decade + '7'])/2\n",
    "    return avg\n",
    "```\n",
    "\n",
    "3.\n",
    "\n",
    "We need to loop over the reported years to obtain the average for the relevant ones in the data.\n",
    "\n",
    "```python\n",
    "def avg_gdp_in_decade(country, continent, year):\n",
    "    df = pd.read_csv('../data/gapminder_gdp_' + continent + '.csv', index_col=0)\n",
    "    c = df.loc[country]\n",
    "    gdp_decade = 'gdpPercap_' + str(year // 10)\n",
    "    total = 0.0\n",
    "    num_years = 0\n",
    "    for yr_header in c.index: # c's index contains reported years\n",
    "        if yr_header.startswith(gdp_decade):\n",
    "            total = total + c.loc[yr_header]\n",
    "            num_years = num_years + 1\n",
    "    return total/num_years\n",
    "```\n",
    "\n",
    "The function can now be called by:\n",
    "```python\n",
    "avg_gdp_in_decade('Japan','asia',1983)\n",
    "```"
   ]
  },
  {
   "cell_type": "markdown",
   "metadata": {},
   "source": [
    "---"
   ]
  },
  {
   "cell_type": "markdown",
   "metadata": {},
   "source": [
    "## Exercise\n",
    "\n",
    "### Simulating a dynamical system\n",
    "\n",
    "In mathematics, a [dynamical system](https://en.wikipedia.org/wiki/Dynamical_system) is a system in which a function describes the time dependence of a point in a geometrical space. A canonical example of a dynamical system is the [logistic map](https://en.wikipedia.org/wiki/Logistic_map), a growth model that computes a new population density (between  0 and 1) based on the current density. In the model, time takes discrete values 0, 1, 2, ...\n",
    "\n",
    "1. Define a function called `logistic_map` that takes two inputs: `x`, representing the current population (at time _t_), and a parameter `r=1`. This function should return a value representing the state of the system (population) at time _t_+1, using the mapping function \n",
    "\n",
    "   x(t+1) = r * x(t) * [1 - x(t)]\n",
    "\n",
    "2. Using a `for` or `while` loop, iterate the `logistic_map` function defined in part 1, starting from an initial population of 0.5, for a period of time `t_final=10`. Store the intermediate results in a list so that after the loop terminates you have accumulated a sequence of values representing the state of the logistic map at times _t_=0,1,...,_t_final_. Print this list to see the evolution of the population.\n",
    "\n",
    "3. Encapsulate the logic of your loop into a function called `iterate` that takes the initial population as its first input, the parameter `t_final` as its second input and the parameter `r` as its third input. The function should return the list of values representing the state of the logistic map at times _t_=0,1,...,_t_final_. Run this function for periods `t_final=100` and `1000` and print some of the values. Is the population trending toward a steady state?"
   ]
  },
  {
   "cell_type": "markdown",
   "metadata": {},
   "source": [
    "### Solution\n",
    "\n",
    "1. ```python\n",
    "   def logistic_map(x, r):\n",
    "       return r * x * (1 - x)\n",
    "   ```\n",
    "\n",
    "2. ```python\n",
    "   initial_population = 0.5\n",
    "   t_final = 10\n",
    "   r = 1.0\n",
    "   population = [initial_population]\n",
    "   for t in range(1, t_final):\n",
    "       population.append( logistic_map(population[t-1], r) )\n",
    "   ```\n",
    "\n",
    "3. ```python\n",
    "   def iterate(initial_population, t_final, r):\n",
    "       population = [initial_population]\n",
    "       for t in range(1, t_final):\n",
    "           population.append( logistic_map(population[t-1], r) )\n",
    "       return population\n",
    "\n",
    "   for period in (10, 100, 1000):\n",
    "       population = iterate(0.5, period, 1)\n",
    "       print(population[-1])\n",
    "   ```"
   ]
  },
  {
   "cell_type": "code",
   "execution_count": null,
   "metadata": {},
   "outputs": [],
   "source": []
  }
 ],
 "metadata": {
  "kernelspec": {
   "display_name": "Python 3",
   "language": "python",
   "name": "python3"
  },
  "language_info": {
   "codemirror_mode": {
    "name": "ipython",
    "version": 3
   },
   "file_extension": ".py",
   "mimetype": "text/x-python",
   "name": "python",
   "nbconvert_exporter": "python",
   "pygments_lexer": "ipython3",
   "version": "3.7.7"
  }
 },
 "nbformat": 4,
 "nbformat_minor": 4
}
