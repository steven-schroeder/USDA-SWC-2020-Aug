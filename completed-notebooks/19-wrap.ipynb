{
 "cells": [
  {
   "cell_type": "markdown",
   "metadata": {},
   "source": [
    "# Wrap-Up\n",
    "\n",
    "teaching: 20\n",
    "exercises: 0\n",
    "\n",
    "questions:\n",
    "\n",
    "- \"What have we learned?\"\n",
    "- \"What else is out there and where do I find it?\"\n",
    "\n",
    "objectives:\n",
    "\n",
    "- \"Name and locate scientific Python community sites for software, workshops, and help.\"\n",
    "\n",
    "keypoints:\n",
    "\n",
    "- \"Python supports a large and diverse community across academia and industry.\""
   ]
  },
  {
   "cell_type": "markdown",
   "metadata": {},
   "source": [
    "---"
   ]
  },
  {
   "cell_type": "markdown",
   "metadata": {},
   "source": [
    "Leslie Lamport once said, \"Writing is nature's way of showing you how sloppy your thinking is.\"\n",
    "The same is true of programming:\n",
    "many things that seem obvious when we're thinking about them\n",
    "turn out to be anything but when we have to explain them precisely."
   ]
  },
  {
   "cell_type": "markdown",
   "metadata": {},
   "source": [
    "“Any fool can write code that a computer can understand. Good programmers write code that humans can understand.” - Martin Fowler"
   ]
  },
  {
   "cell_type": "markdown",
   "metadata": {},
   "source": [
    "## Python supports a large and diverse community across academia and industry.\n",
    "\n",
    "* The [Python 3 documentation](https://docs.python.org/3/) covers the core language\n",
    "    and the standard library.\n",
    "\n",
    "* [PyCon](https://pycon.org/) is the largest annual conference for the Python community.\n",
    "\n",
    "* [SciPy](https://scipy.org) is a rich collection of scientific utilities.\n",
    "    It is also the name of [a series of annual conferences](https://conference.scipy.org/).\n",
    "\n",
    "* [Jupyter](https://jupyter.org) is the home of Project Jupyter.\n",
    "\n",
    "* [Pandas](https://pandas.pydata.org) is the home of the Pandas data library.\n",
    "\n",
    "* Stack Overflow's [general Python section](https://stackoverflow.com/questions/tagged/python?tab=Votes)\n",
    "    can be helpful,\n",
    "    as well as the sections on [NumPy](https://stackoverflow.com/questions/tagged/numpy?tab=Votes),\n",
    "    [SciPy](https://stackoverflow.com/questions/tagged/scipy?tab=Votes), and\n",
    "    [Pandas](https://stackoverflow.com/questions/tagged/pandas?tab=Votes)."
   ]
  },
  {
   "cell_type": "markdown",
   "metadata": {},
   "source": []
  }
 ],
 "metadata": {
  "kernelspec": {
   "display_name": "Python 3",
   "language": "python",
   "name": "python3"
  },
  "language_info": {
   "codemirror_mode": {
    "name": "ipython",
    "version": 3
   },
   "file_extension": ".py",
   "mimetype": "text/x-python",
   "name": "python",
   "nbconvert_exporter": "python",
   "pygments_lexer": "ipython3",
   "version": "3.7.7"
  }
 },
 "nbformat": 4,
 "nbformat_minor": 4
}
